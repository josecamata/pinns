{
 "cells": [
  {
   "cell_type": "markdown",
   "id": "3f2bfcab-c832-4125-8135-da7fed79ded7",
   "metadata": {},
   "source": [
    "## Análise e Geração de Gráficos"
   ]
  },
  {
   "cell_type": "code",
   "execution_count": 2,
   "id": "fe3c48c4-5c3a-4f3d-8ac1-63ed9c5f4d98",
   "metadata": {
    "tags": []
   },
   "outputs": [
    {
     "name": "stdout",
     "output_type": "stream",
     "text": [
      "Collecting seaborn\n",
      "  Using cached seaborn-0.13.2-py3-none-any.whl.metadata (5.4 kB)\n",
      "Requirement already satisfied: numpy!=1.24.0,>=1.20 in /opt/conda/envs/sagemaker-distribution/lib/python3.10/site-packages (from seaborn) (1.26.4)\n",
      "Requirement already satisfied: pandas>=1.2 in /opt/conda/envs/sagemaker-distribution/lib/python3.10/site-packages (from seaborn) (2.1.4)\n",
      "Requirement already satisfied: matplotlib!=3.6.1,>=3.4 in /opt/conda/envs/sagemaker-distribution/lib/python3.10/site-packages (from seaborn) (3.8.4)\n",
      "Requirement already satisfied: contourpy>=1.0.1 in /opt/conda/envs/sagemaker-distribution/lib/python3.10/site-packages (from matplotlib!=3.6.1,>=3.4->seaborn) (1.2.1)\n",
      "Requirement already satisfied: cycler>=0.10 in /opt/conda/envs/sagemaker-distribution/lib/python3.10/site-packages (from matplotlib!=3.6.1,>=3.4->seaborn) (0.12.1)\n",
      "Requirement already satisfied: fonttools>=4.22.0 in /opt/conda/envs/sagemaker-distribution/lib/python3.10/site-packages (from matplotlib!=3.6.1,>=3.4->seaborn) (4.51.0)\n",
      "Requirement already satisfied: kiwisolver>=1.3.1 in /opt/conda/envs/sagemaker-distribution/lib/python3.10/site-packages (from matplotlib!=3.6.1,>=3.4->seaborn) (1.4.5)\n",
      "Requirement already satisfied: packaging>=20.0 in /opt/conda/envs/sagemaker-distribution/lib/python3.10/site-packages (from matplotlib!=3.6.1,>=3.4->seaborn) (23.2)\n",
      "Requirement already satisfied: pillow>=8 in /opt/conda/envs/sagemaker-distribution/lib/python3.10/site-packages (from matplotlib!=3.6.1,>=3.4->seaborn) (10.3.0)\n",
      "Requirement already satisfied: pyparsing>=2.3.1 in /opt/conda/envs/sagemaker-distribution/lib/python3.10/site-packages (from matplotlib!=3.6.1,>=3.4->seaborn) (3.1.2)\n",
      "Requirement already satisfied: python-dateutil>=2.7 in /opt/conda/envs/sagemaker-distribution/lib/python3.10/site-packages (from matplotlib!=3.6.1,>=3.4->seaborn) (2.9.0)\n",
      "Requirement already satisfied: pytz>=2020.1 in /opt/conda/envs/sagemaker-distribution/lib/python3.10/site-packages (from pandas>=1.2->seaborn) (2023.3)\n",
      "Requirement already satisfied: tzdata>=2022.1 in /opt/conda/envs/sagemaker-distribution/lib/python3.10/site-packages (from pandas>=1.2->seaborn) (2024.1)\n",
      "Requirement already satisfied: six>=1.5 in /opt/conda/envs/sagemaker-distribution/lib/python3.10/site-packages (from python-dateutil>=2.7->matplotlib!=3.6.1,>=3.4->seaborn) (1.16.0)\n",
      "Using cached seaborn-0.13.2-py3-none-any.whl (294 kB)\n",
      "Installing collected packages: seaborn\n",
      "Successfully installed seaborn-0.13.2\n"
     ]
    }
   ],
   "source": [
    "!pip install seaborn"
   ]
  },
  {
   "cell_type": "code",
   "execution_count": 3,
   "id": "64bced9c-8407-4577-a674-e884ac904104",
   "metadata": {
    "tags": []
   },
   "outputs": [],
   "source": [
    "import matplotlib.pyplot as plt\n",
    "import pandas as pd\n",
    "import numpy as np\n",
    "import seaborn as sns"
   ]
  },
  {
   "cell_type": "markdown",
   "id": "0bedcc38-5bd9-4fd3-bad5-70b7fb024bdf",
   "metadata": {},
   "source": [
    "#### Import e Tratamento dos dados da otimização de hiperparâmetros "
   ]
  },
  {
   "cell_type": "code",
   "execution_count": 4,
   "id": "c2c14d7c-bbba-423d-81c0-ad8612c0caad",
   "metadata": {
    "tags": []
   },
   "outputs": [],
   "source": [
    "results = pd.read_csv(\"results.csv\")"
   ]
  },
  {
   "cell_type": "code",
   "execution_count": 5,
   "id": "291499fd-9523-46c5-8741-0d055ea94d0d",
   "metadata": {
    "tags": []
   },
   "outputs": [],
   "source": [
    "def convert_to_array(s):\n",
    "    s = s.replace('\\n', '')  # Remove \\n\n",
    "    s = s.replace('[', '').replace(']', '')  # Remove colchetes\n",
    "    array = np.array([float(x) for x in s.split()])  # Converte para array NumPy\n",
    "    return array"
   ]
  },
  {
   "cell_type": "code",
   "execution_count": 6,
   "id": "560e9f53-7105-478a-bb3b-c7b6ac1c784b",
   "metadata": {
    "tags": []
   },
   "outputs": [],
   "source": [
    "results['Solução Predita'] = results['Solução Predita'].apply(convert_to_array)"
   ]
  },
  {
   "cell_type": "code",
   "execution_count": 7,
   "id": "f0ab86ed-a66f-4959-b549-e4500c5982aa",
   "metadata": {
    "tags": []
   },
   "outputs": [
    {
     "data": {
      "text/html": [
       "<div>\n",
       "<style scoped>\n",
       "    .dataframe tbody tr th:only-of-type {\n",
       "        vertical-align: middle;\n",
       "    }\n",
       "\n",
       "    .dataframe tbody tr th {\n",
       "        vertical-align: top;\n",
       "    }\n",
       "\n",
       "    .dataframe thead th {\n",
       "        text-align: right;\n",
       "    }\n",
       "</style>\n",
       "<table border=\"1\" class=\"dataframe\">\n",
       "  <thead>\n",
       "    <tr style=\"text-align: right;\">\n",
       "      <th></th>\n",
       "      <th>ID</th>\n",
       "      <th>Taxa de Aprendizado</th>\n",
       "      <th>Número de Camadas Ocultas</th>\n",
       "      <th>Número de Neurônios por Camada</th>\n",
       "      <th>Ativação</th>\n",
       "      <th>Solução Predita</th>\n",
       "      <th>Loss</th>\n",
       "    </tr>\n",
       "  </thead>\n",
       "  <tbody>\n",
       "    <tr>\n",
       "      <th>0</th>\n",
       "      <td>0</td>\n",
       "      <td>0.0010</td>\n",
       "      <td>5</td>\n",
       "      <td>60</td>\n",
       "      <td>tanh</td>\n",
       "      <td>[-0.00896674, -0.0086022, -0.0083431, -0.00819...</td>\n",
       "      <td>0.010614</td>\n",
       "    </tr>\n",
       "    <tr>\n",
       "      <th>1</th>\n",
       "      <td>1</td>\n",
       "      <td>0.0050</td>\n",
       "      <td>6</td>\n",
       "      <td>40</td>\n",
       "      <td>ReLU</td>\n",
       "      <td>[0.03829777, 0.03835155, 0.03837201, 0.0383924...</td>\n",
       "      <td>0.252706</td>\n",
       "    </tr>\n",
       "    <tr>\n",
       "      <th>2</th>\n",
       "      <td>2</td>\n",
       "      <td>0.0050</td>\n",
       "      <td>6</td>\n",
       "      <td>70</td>\n",
       "      <td>Swish</td>\n",
       "      <td>[-0.000918082893, -0.000892743468, -0.00086864...</td>\n",
       "      <td>0.000126</td>\n",
       "    </tr>\n",
       "    <tr>\n",
       "      <th>3</th>\n",
       "      <td>3</td>\n",
       "      <td>0.0005</td>\n",
       "      <td>7</td>\n",
       "      <td>60</td>\n",
       "      <td>tanh</td>\n",
       "      <td>[0.00639288547, 0.005788852, 0.0051537645, 0.0...</td>\n",
       "      <td>0.002465</td>\n",
       "    </tr>\n",
       "    <tr>\n",
       "      <th>4</th>\n",
       "      <td>4</td>\n",
       "      <td>0.0010</td>\n",
       "      <td>4</td>\n",
       "      <td>80</td>\n",
       "      <td>sin</td>\n",
       "      <td>[0.00178459939, 0.00194640364, 0.00210815575, ...</td>\n",
       "      <td>0.000995</td>\n",
       "    </tr>\n",
       "  </tbody>\n",
       "</table>\n",
       "</div>"
      ],
      "text/plain": [
       "   ID  Taxa de Aprendizado  Número de Camadas Ocultas  \\\n",
       "0   0               0.0010                          5   \n",
       "1   1               0.0050                          6   \n",
       "2   2               0.0050                          6   \n",
       "3   3               0.0005                          7   \n",
       "4   4               0.0010                          4   \n",
       "\n",
       "   Número de Neurônios por Camada Ativação  \\\n",
       "0                              60     tanh   \n",
       "1                              40     ReLU   \n",
       "2                              70    Swish   \n",
       "3                              60     tanh   \n",
       "4                              80      sin   \n",
       "\n",
       "                                     Solução Predita      Loss  \n",
       "0  [-0.00896674, -0.0086022, -0.0083431, -0.00819...  0.010614  \n",
       "1  [0.03829777, 0.03835155, 0.03837201, 0.0383924...  0.252706  \n",
       "2  [-0.000918082893, -0.000892743468, -0.00086864...  0.000126  \n",
       "3  [0.00639288547, 0.005788852, 0.0051537645, 0.0...  0.002465  \n",
       "4  [0.00178459939, 0.00194640364, 0.00210815575, ...  0.000995  "
      ]
     },
     "execution_count": 7,
     "metadata": {},
     "output_type": "execute_result"
    }
   ],
   "source": [
    "results.head()"
   ]
  },
  {
   "cell_type": "markdown",
   "id": "57ba2f52-189e-42cc-ab17-e4b8d14bff80",
   "metadata": {},
   "source": [
    "### Gráfico Comparativo usando a seção x = 5, t = 2 * pi"
   ]
  },
  {
   "cell_type": "code",
   "execution_count": 22,
   "id": "10d4b431-1449-4d7c-9d31-675d2660600d",
   "metadata": {
    "tags": []
   },
   "outputs": [],
   "source": [
    "# Ordenar os resultados pela 'Loss'\n",
    "sorted_results = results.sort_values(by='Loss')\n",
    "\n",
    "# Pega o top 10\n",
    "top_10_results = sorted_results.head(10)"
   ]
  },
  {
   "cell_type": "code",
   "execution_count": 14,
   "id": "95a8e589-dd3b-486e-9da8-91bced3958dc",
   "metadata": {},
   "outputs": [],
   "source": [
    "# Configurações do Seaborn\n",
    "palette = sns.color_palette(\"rocket\")\n",
    "sns.set_palette(palette)\n",
    "sns.set_style(\"ticks\", {'axes.grid': True})\n",
    "\n",
    "# Criar a figura e o eixo\n",
    "fig, ax1 = plt.subplots(figsize=(16, 8))\n",
    "\n",
    "# Definir os rótulos dos eixos com LaTeX\n",
    "ax1.set_xlabel(r'$y$', fontsize=14)\n",
    "ax1.set_ylabel(r'$u(x = 5, y, t = 2\\pi)$', fontsize=14)\n",
    "\n",
    "# Número de valores\n",
    "num_values = 128\n",
    "y = np.linspace(0, 10, num_values).reshape(-1, 1)\n",
    "\n",
    "# Plotar as linhas com Seaborn\n",
    "for i, (_, result) in enumerate(top_10_results.iterrows()):\n",
    "    label = f\"{result['ID']} - LR: {result['Taxa de Aprendizado']}, Layers: {result['Número de Camadas Ocultas']}, Nodes: {result['Número de Neurônios por Camada']}, Activ.: {result['Ativação']}\"\n",
    "    sns.lineplot(x=y.flatten(), y=result['Solução Predita'], linewidth=2, label=label, ax=ax1)\n",
    "\n",
    "# Adicionar a legenda\n",
    "ax1.legend(loc='center left', bbox_to_anchor=(1, 0.5))\n",
    "\n",
    "# Salvar a figura\n",
    "fig.savefig('plots/comparison_plot.png', bbox_inches='tight')\n",
    "plt.close(fig)"
   ]
  },
  {
   "cell_type": "markdown",
   "id": "eaa09ee5-3eb6-4eff-9911-e7f9f308c6c2",
   "metadata": {
    "tags": []
   },
   "source": [
    "### Gráfico comparativo log(loss) x sort(m)"
   ]
  },
  {
   "cell_type": "code",
   "execution_count": 15,
   "id": "065fb372-2ebd-4754-b03e-782b68b9d62e",
   "metadata": {},
   "outputs": [],
   "source": [
    "# Criação do gráfico de pontos\n",
    "fig, ax = plt.subplots()\n",
    "sns.lineplot(x=np.arange(0, 40, 1), y=np.log10(sorted_results['Loss']), marker='o', ax=ax)\n",
    "\n",
    "# Configuração dos eixos e título\n",
    "ax.set_xlabel('Ranking')\n",
    "ax.set_ylabel(r'$log_{10}(\\mathcal{L}_{\\theta^{*}}[\\lambda]$)')\n",
    "\n",
    "# Ajustes adicionais para melhorar a visualização em escala logarítmica\n",
    "ax.grid(True, which=\"both\", ls=\"--\")\n",
    "ax.minorticks_on()\n",
    "\n",
    "# Salvar o gráfico\n",
    "fig.savefig('plots/loss_hpo.png', bbox_inches='tight')\n",
    "plt.close(fig)"
   ]
  },
  {
   "cell_type": "markdown",
   "id": "be3a55a9-5e22-4123-ac9a-d01a19c84b25",
   "metadata": {},
   "source": [
    "### Gráfico comparando melhor solução contra solver numérico"
   ]
  },
  {
   "cell_type": "code",
   "execution_count": 9,
   "id": "d2c964b5-9a41-4ba8-9f69-1400725b0092",
   "metadata": {
    "tags": []
   },
   "outputs": [],
   "source": [
    "sol_malha_128 = pd.read_csv(\"sol_malha_128x128.csv\")"
   ]
  },
  {
   "cell_type": "code",
   "execution_count": 10,
   "id": "6be2ffea-1bd1-4c48-af7c-09305f190322",
   "metadata": {
    "tags": []
   },
   "outputs": [
    {
     "data": {
      "text/html": [
       "<div>\n",
       "<style scoped>\n",
       "    .dataframe tbody tr th:only-of-type {\n",
       "        vertical-align: middle;\n",
       "    }\n",
       "\n",
       "    .dataframe tbody tr th {\n",
       "        vertical-align: top;\n",
       "    }\n",
       "\n",
       "    .dataframe thead th {\n",
       "        text-align: right;\n",
       "    }\n",
       "</style>\n",
       "<table border=\"1\" class=\"dataframe\">\n",
       "  <thead>\n",
       "    <tr style=\"text-align: right;\">\n",
       "      <th></th>\n",
       "      <th>u</th>\n",
       "      <th>vtkValidPointMask</th>\n",
       "      <th>arc_length</th>\n",
       "      <th>Points:0</th>\n",
       "      <th>Points:1</th>\n",
       "      <th>Points:2</th>\n",
       "    </tr>\n",
       "  </thead>\n",
       "  <tbody>\n",
       "    <tr>\n",
       "      <th>0</th>\n",
       "      <td>0.000000e+00</td>\n",
       "      <td>1</td>\n",
       "      <td>0.000000</td>\n",
       "      <td>5</td>\n",
       "      <td>0.000000</td>\n",
       "      <td>0</td>\n",
       "    </tr>\n",
       "    <tr>\n",
       "      <th>1</th>\n",
       "      <td>-1.874100e-09</td>\n",
       "      <td>1</td>\n",
       "      <td>0.078125</td>\n",
       "      <td>5</td>\n",
       "      <td>0.078125</td>\n",
       "      <td>0</td>\n",
       "    </tr>\n",
       "    <tr>\n",
       "      <th>2</th>\n",
       "      <td>-1.980800e-11</td>\n",
       "      <td>1</td>\n",
       "      <td>0.156250</td>\n",
       "      <td>5</td>\n",
       "      <td>0.156250</td>\n",
       "      <td>0</td>\n",
       "    </tr>\n",
       "    <tr>\n",
       "      <th>3</th>\n",
       "      <td>8.355700e-10</td>\n",
       "      <td>1</td>\n",
       "      <td>0.234380</td>\n",
       "      <td>5</td>\n",
       "      <td>0.234380</td>\n",
       "      <td>0</td>\n",
       "    </tr>\n",
       "    <tr>\n",
       "      <th>4</th>\n",
       "      <td>-1.712200e-12</td>\n",
       "      <td>1</td>\n",
       "      <td>0.312500</td>\n",
       "      <td>5</td>\n",
       "      <td>0.312500</td>\n",
       "      <td>0</td>\n",
       "    </tr>\n",
       "  </tbody>\n",
       "</table>\n",
       "</div>"
      ],
      "text/plain": [
       "              u  vtkValidPointMask  arc_length  Points:0  Points:1  Points:2\n",
       "0  0.000000e+00                  1    0.000000         5  0.000000         0\n",
       "1 -1.874100e-09                  1    0.078125         5  0.078125         0\n",
       "2 -1.980800e-11                  1    0.156250         5  0.156250         0\n",
       "3  8.355700e-10                  1    0.234380         5  0.234380         0\n",
       "4 -1.712200e-12                  1    0.312500         5  0.312500         0"
      ]
     },
     "execution_count": 10,
     "metadata": {},
     "output_type": "execute_result"
    }
   ],
   "source": [
    "sol_malha_128.head()"
   ]
  },
  {
   "cell_type": "code",
   "execution_count": 26,
   "id": "1761f1eb-fb03-41fa-88d5-c63ac45d52d7",
   "metadata": {
    "tags": []
   },
   "outputs": [],
   "source": [
    "# Criar a figura e o eixo\n",
    "fig, ax1 = plt.subplots(figsize=(16, 8))\n",
    "\n",
    "# Definir os rótulos dos eixos com LaTeX\n",
    "ax1.set_xlabel(r'$y$', fontsize=14)\n",
    "ax1.set_ylabel(r'$u(x = 5, y, t = 2\\pi)$', fontsize=14)\n",
    "\n",
    "#Plot do melhor modelo\n",
    "label = f\"{sorted_results.iloc[0]['ID']} - LR: {sorted_results.iloc[0]['Taxa de Aprendizado']}, Layers: {sorted_results.iloc[0]['Número de Camadas Ocultas']}, Nodes: {sorted_results.iloc[0]['Número de Neurônios por Camada']}, Activ.: {sorted_results.iloc[0]['Ativação']}\"\n",
    "sns.lineplot(x=y.flatten(), y=sorted_results.iloc[0]['Solução Predita'], linewidth=2, label=label, ax=ax1)\n",
    "\n",
    "label = f\"Solver Numérico\"\n",
    "sns.lineplot(x=y.flatten(), y=sol_malha_128.iloc[:-1][\"u\"], linewidth=2, label=label, ax=ax1)\n",
    "\n",
    "# Salvar a figura\n",
    "fig.savefig('plots/best_compare_solver.png', bbox_inches='tight')\n",
    "plt.close(fig)"
   ]
  }
 ],
 "metadata": {
  "kernelspec": {
   "display_name": "sagemaker-distribution:Python",
   "language": "python",
   "name": "conda-env-sagemaker-distribution-py"
  },
  "language_info": {
   "codemirror_mode": {
    "name": "ipython",
    "version": 3
   },
   "file_extension": ".py",
   "mimetype": "text/x-python",
   "name": "python",
   "nbconvert_exporter": "python",
   "pygments_lexer": "ipython3",
   "version": "3.10.14"
  }
 },
 "nbformat": 4,
 "nbformat_minor": 5
}
