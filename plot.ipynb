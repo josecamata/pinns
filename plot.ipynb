{
 "cells": [
  {
   "cell_type": "markdown",
   "id": "3f2bfcab-c832-4125-8135-da7fed79ded7",
   "metadata": {},
   "source": [
    "### Análise e Geração de Gráficos"
   ]
  },
  {
   "cell_type": "markdown",
   "id": "57ba2f52-189e-42cc-ab17-e4b8d14bff80",
   "metadata": {},
   "source": [
    "Gráfico Comparativo usando a seção x = 5, t = 2 * pi"
   ]
  },
  {
   "cell_type": "code",
   "execution_count": 1,
   "id": "64bced9c-8407-4577-a674-e884ac904104",
   "metadata": {
    "tags": []
   },
   "outputs": [],
   "source": [
    "import matplotlib.pyplot as plt\n",
    "import pandas as pd\n",
    "import numpy as np"
   ]
  },
  {
   "cell_type": "code",
   "execution_count": 2,
   "id": "c2c14d7c-bbba-423d-81c0-ad8612c0caad",
   "metadata": {
    "tags": []
   },
   "outputs": [],
   "source": [
    "results = pd.read_csv(\"results.csv\")"
   ]
  },
  {
   "cell_type": "code",
   "execution_count": 3,
   "id": "291499fd-9523-46c5-8741-0d055ea94d0d",
   "metadata": {
    "tags": []
   },
   "outputs": [],
   "source": [
    "def convert_to_array(s):\n",
    "    s = s.replace('\\n', '')  # Remove \\n\n",
    "    s = s.replace('[', '').replace(']', '')  # Remove colchetes\n",
    "    array = np.array([float(x) for x in s.split()])  # Converte para array NumPy\n",
    "    return array"
   ]
  },
  {
   "cell_type": "code",
   "execution_count": 4,
   "id": "560e9f53-7105-478a-bb3b-c7b6ac1c784b",
   "metadata": {
    "tags": []
   },
   "outputs": [],
   "source": [
    "results['Solução Predita'] = results['Solução Predita'].apply(convert_to_array)"
   ]
  },
  {
   "cell_type": "code",
   "execution_count": 5,
   "id": "f0ab86ed-a66f-4959-b549-e4500c5982aa",
   "metadata": {
    "tags": []
   },
   "outputs": [
    {
     "data": {
      "text/html": [
       "<div>\n",
       "<style scoped>\n",
       "    .dataframe tbody tr th:only-of-type {\n",
       "        vertical-align: middle;\n",
       "    }\n",
       "\n",
       "    .dataframe tbody tr th {\n",
       "        vertical-align: top;\n",
       "    }\n",
       "\n",
       "    .dataframe thead th {\n",
       "        text-align: right;\n",
       "    }\n",
       "</style>\n",
       "<table border=\"1\" class=\"dataframe\">\n",
       "  <thead>\n",
       "    <tr style=\"text-align: right;\">\n",
       "      <th></th>\n",
       "      <th>ID</th>\n",
       "      <th>Taxa de Aprendizado</th>\n",
       "      <th>Número de Camadas Ocultas</th>\n",
       "      <th>Número de Neurônios por Camada</th>\n",
       "      <th>Ativação</th>\n",
       "      <th>Solução Predita</th>\n",
       "      <th>Loss</th>\n",
       "    </tr>\n",
       "  </thead>\n",
       "  <tbody>\n",
       "    <tr>\n",
       "      <th>0</th>\n",
       "      <td>0</td>\n",
       "      <td>0.0010</td>\n",
       "      <td>5</td>\n",
       "      <td>60</td>\n",
       "      <td>tanh</td>\n",
       "      <td>[-0.00896674, -0.0086022, -0.0083431, -0.00819...</td>\n",
       "      <td>0.010614</td>\n",
       "    </tr>\n",
       "    <tr>\n",
       "      <th>1</th>\n",
       "      <td>1</td>\n",
       "      <td>0.0050</td>\n",
       "      <td>6</td>\n",
       "      <td>40</td>\n",
       "      <td>ReLU</td>\n",
       "      <td>[0.03829777, 0.03835155, 0.03837201, 0.0383924...</td>\n",
       "      <td>0.252706</td>\n",
       "    </tr>\n",
       "    <tr>\n",
       "      <th>2</th>\n",
       "      <td>2</td>\n",
       "      <td>0.0050</td>\n",
       "      <td>6</td>\n",
       "      <td>70</td>\n",
       "      <td>Swish</td>\n",
       "      <td>[-0.000918082893, -0.000892743468, -0.00086864...</td>\n",
       "      <td>0.000126</td>\n",
       "    </tr>\n",
       "    <tr>\n",
       "      <th>3</th>\n",
       "      <td>3</td>\n",
       "      <td>0.0005</td>\n",
       "      <td>7</td>\n",
       "      <td>60</td>\n",
       "      <td>tanh</td>\n",
       "      <td>[0.00639288547, 0.005788852, 0.0051537645, 0.0...</td>\n",
       "      <td>0.002465</td>\n",
       "    </tr>\n",
       "    <tr>\n",
       "      <th>4</th>\n",
       "      <td>4</td>\n",
       "      <td>0.0010</td>\n",
       "      <td>4</td>\n",
       "      <td>80</td>\n",
       "      <td>sin</td>\n",
       "      <td>[0.00178459939, 0.00194640364, 0.00210815575, ...</td>\n",
       "      <td>0.000995</td>\n",
       "    </tr>\n",
       "  </tbody>\n",
       "</table>\n",
       "</div>"
      ],
      "text/plain": [
       "   ID  Taxa de Aprendizado  Número de Camadas Ocultas  \\\n",
       "0   0               0.0010                          5   \n",
       "1   1               0.0050                          6   \n",
       "2   2               0.0050                          6   \n",
       "3   3               0.0005                          7   \n",
       "4   4               0.0010                          4   \n",
       "\n",
       "   Número de Neurônios por Camada Ativação  \\\n",
       "0                              60     tanh   \n",
       "1                              40     ReLU   \n",
       "2                              70    Swish   \n",
       "3                              60     tanh   \n",
       "4                              80      sin   \n",
       "\n",
       "                                     Solução Predita      Loss  \n",
       "0  [-0.00896674, -0.0086022, -0.0083431, -0.00819...  0.010614  \n",
       "1  [0.03829777, 0.03835155, 0.03837201, 0.0383924...  0.252706  \n",
       "2  [-0.000918082893, -0.000892743468, -0.00086864...  0.000126  \n",
       "3  [0.00639288547, 0.005788852, 0.0051537645, 0.0...  0.002465  \n",
       "4  [0.00178459939, 0.00194640364, 0.00210815575, ...  0.000995  "
      ]
     },
     "execution_count": 5,
     "metadata": {},
     "output_type": "execute_result"
    }
   ],
   "source": [
    "results.head()"
   ]
  },
  {
   "cell_type": "code",
   "execution_count": 6,
   "id": "0ce2b3f3-56c9-4292-ba20-e153700a885f",
   "metadata": {
    "tags": []
   },
   "outputs": [
    {
     "data": {
      "text/plain": [
       "Text(0, 0.5, 'u(x = 5, y, t = 2π)')"
      ]
     },
     "execution_count": 6,
     "metadata": {},
     "output_type": "execute_result"
    },
    {
     "data": {
      "image/png": "[encoded data removed]",
      "text/plain": [
       "<Figure size 1600x800 with 1 Axes>"
      ]
     },
     "metadata": {},
     "output_type": "display_data"
    }
   ],
   "source": [
    "#Inicializa o plot \n",
    "fig, ax1 = plt.subplots(figsize=(16, 8))\n",
    "ax1.set_xlabel('y')\n",
    "ax1.set_ylabel('u(x = 5, y, t = 2π)')"
   ]
  },
  {
   "cell_type": "code",
   "execution_count": 7,
   "id": "10d4b431-1449-4d7c-9d31-675d2660600d",
   "metadata": {
    "tags": []
   },
   "outputs": [],
   "source": [
    "# Ordenar os resultados pela 'Loss'\n",
    "sorted_results = results.sort_values(by='Loss')\n",
    "\n",
    "# Pega o top 10\n",
    "top_10_results = sorted_results.head(10)"
   ]
  },
  {
   "cell_type": "code",
   "execution_count": 8,
   "id": "95a8e589-dd3b-486e-9da8-91bced3958dc",
   "metadata": {},
   "outputs": [],
   "source": [
    "num_values = 128\n",
    "y = np.linspace(0, 10, num_values).reshape(-1, 1)\n",
    "\n",
    "for i, (_, result) in enumerate(top_10_results.iterrows()):\n",
    "    label = f\"{result['ID']} - LR: {result['Taxa de Aprendizado']}, Layers: {result['Número de Camadas Ocultas']}, Nodes: {result['Número de Neurônios por Camada']}, Activ.: {result['Ativação']}\"\n",
    "    ax1.plot(y, result['Solução Predita'], linewidth=2, label=label)\n",
    "\n",
    "ax1.legend(loc='center left', bbox_to_anchor=(1, 0.5))\n",
    "ax1.set_title('10 Melhores Configurações')\n",
    "fig.savefig('comparison_plot.png', bbox_inches='tight')\n",
    "plt.close(fig)"
   ]
  },
  {
   "cell_type": "code",
   "execution_count": null,
   "id": "065fb372-2ebd-4754-b03e-782b68b9d62e",
   "metadata": {},
   "outputs": [],
   "source": []
  }
 ],
 "metadata": {
  "kernelspec": {
   "display_name": "sagemaker-distribution:Python",
   "language": "python",
   "name": "conda-env-sagemaker-distribution-py"
  },
  "language_info": {
   "codemirror_mode": {
    "name": "ipython",
    "version": 3
   },
   "file_extension": ".py",
   "mimetype": "text/x-python",
   "name": "python",
   "nbconvert_exporter": "python",
   "pygments_lexer": "ipython3",
   "version": "3.10.14"
  }
 },
 "nbformat": 4,
 "nbformat_minor": 5
}
